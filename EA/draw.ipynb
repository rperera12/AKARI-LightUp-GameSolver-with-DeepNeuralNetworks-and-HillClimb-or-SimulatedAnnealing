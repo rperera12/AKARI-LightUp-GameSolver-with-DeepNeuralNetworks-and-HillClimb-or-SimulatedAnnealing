{
 "cells": [
  {
   "cell_type": "code",
   "execution_count": 1,
   "source": [
    "from turtle import *\n",
    "color('red', 'yellow')\n",
    "begin_fill()\n",
    "while True:\n",
    "    forward(200)\n",
    "    left(170)\n",
    "    if abs(pos()) < 1:\n",
    "        break\n",
    "end_fill()\n",
    "done()"
   ],
   "outputs": [],
   "metadata": {}
  },
  {
   "cell_type": "code",
   "execution_count": 15,
   "source": [
    "from processing_py import *\n",
    "\n",
    "grid = [ [-1]*8  for n in range(8)] # list comprehension\n",
    "grid[0][0] = 1\n",
    "grid[7][7] = 1\n",
    "\n",
    "w = 70 # width of each cell\n",
    "\n",
    "app = App(560,560)    \n",
    "   \n",
    "x,y = 0,0 # starting position\n",
    "\n",
    "\n",
    "text_size = 24\n",
    "app.textSize(text_size)\n",
    "\n",
    "\n",
    "for row in grid:\n",
    "    for col in row:\n",
    "        if col == 1:\n",
    "            app.fill(250,0,0)\n",
    "        else:\n",
    "            app.fill(255)\n",
    "        app.rect(x, y, w, w)\n",
    "\n",
    "        app.fill(255, 128, 0)\n",
    "        app.ellipse(x+int(w/2),y+int(w/2),int(w/2),int(w/2))\n",
    "\n",
    "        app.fill(0,0,0)\n",
    "        app.text(str(col), x+w/2 - text_size/2, y+w/2+text_size/2)\n",
    "        x = x + w  # move right\n",
    "    y = y + w # move down\n",
    "    x = 0 # rest to left edge\n",
    "    \n",
    "app.redraw()\n",
    "# app.saveFrame(\"test.jpg\")\n",
    "        \n"
   ],
   "outputs": [
    {
     "output_type": "stream",
     "name": "stderr",
     "text": [
      "Starting App...\n",
      ">> [Jython] Created!\n",
      "\n"
     ]
    }
   ],
   "metadata": {}
  }
 ],
 "metadata": {
  "orig_nbformat": 4,
  "language_info": {
   "name": "python",
   "version": "3.8.10",
   "mimetype": "text/x-python",
   "codemirror_mode": {
    "name": "ipython",
    "version": 3
   },
   "pygments_lexer": "ipython3",
   "nbconvert_exporter": "python",
   "file_extension": ".py"
  },
  "kernelspec": {
   "name": "python3",
   "display_name": "Python 3.8.10 64-bit"
  },
  "interpreter": {
   "hash": "916dbcbb3f70747c44a77c7bcd40155683ae19c65e1c03b4aa3499c5328201f1"
  }
 },
 "nbformat": 4,
 "nbformat_minor": 2
}